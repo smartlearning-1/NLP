{
 "cells": [
  {
   "cell_type": "raw",
   "metadata": {},
   "source": [
    "# Vector is used in ML to describe the algorithms and processes, and to train the algorithms.\n",
    "# In Python, vector represented as a NumPy array, in a List of one or more values.\n",
    "# Length of the array = dimention of the array\n",
    "# To perform most of the perations, length of the arays involved should be same\n",
    "# Vector addition, multiply vector by a factor (scalar multification) are the main fundamentals of the Linear Algebra\n",
    "\n",
    "https://medium.com/fintechexplained/why-should-we-use-numpy-c14a4fb03ee9\n",
    "# NumPy is an open source numerical Python library, is an extension of Numeric and Numarray.\n",
    "# NumPy contains a multi-dimentional array and matrix data structures.\n",
    "# It can be utilised to perform a number of mathematical operations on arrays such as trigonometric, statistical and algebraic routines, mathematical and transformation functions.\n",
    "# It also contains random number generators.\n",
    "# NumPy is a wrapper around a library implemented in C.\n",
    "# Pandas and NumPy compliments each other.\n",
    "\n",
    "# The combination of NumPy with packages like SciPy (known as Scientific Python) and Mat−plotlib (plotting library), has been treated as a Python alternative to Matlab, thus being observed as a more modern and organized programming language. Since NumPy is open-source, it is an extra advantage for programming aspirants and experienced developers."
   ]
  },
  {
   "cell_type": "code",
   "execution_count": 14,
   "metadata": {},
   "outputs": [
    {
     "name": "stdout",
     "output_type": "stream",
     "text": [
      "1D array\n",
      "[1 2 3]\n",
      "\n",
      "2D array\n",
      "[[ True  True  True]\n",
      " [ True  True  True]]\n",
      "\n",
      "3D array\n",
      "[[[6 9 1 2 5]\n",
      "  [5 9 4 0 4]\n",
      "  [2 4 8 9 9]\n",
      "  [0 0 1 5 5]]\n",
      "\n",
      " [[8 1 7 1 8]\n",
      "  [7 2 9 3 5]\n",
      "  [9 1 3 7 7]\n",
      "  [0 0 3 8 1]]\n",
      "\n",
      " [[2 4 6 9 0]\n",
      "  [3 5 7 5 0]\n",
      "  [4 2 3 0 5]\n",
      "  [1 9 3 8 8]]\n",
      "\n",
      " [[5 8 4 9 4]\n",
      "  [1 1 8 1 8]\n",
      "  [2 3 5 6 5]\n",
      "  [7 9 4 5 1]]]\n"
     ]
    }
   ],
   "source": [
    "# NumPy provides most important object: N dimentional array known as ndarray, items should be of same type\n",
    "import numpy as np\n",
    "# One dimention array\n",
    "a = np.array([1, 2, 3])\n",
    "print('1D array')\n",
    "print(a)\n",
    "\n",
    "# Two dimention, dtype : bool, Integer, float, complex\n",
    "b = np.array([[1, 2, 3], [3, 2, 1]], dtype = 'bool')\n",
    "print('\\n2D array')\n",
    "print(b)\n",
    "\n",
    "c = np.random.randint(10, size=(3, 4, 5))  #creates 3D array with 4 rows and 5 columns\n",
    "print('\\n3D array with 4 rows and 5 columns')\n",
    "print(c)"
   ]
  },
  {
   "cell_type": "code",
   "execution_count": 2,
   "metadata": {
    "scrolled": false
   },
   "outputs": [
    {
     "name": "stdout",
     "output_type": "stream",
     "text": [
      "va: [2 1 3]\n",
      "vb: [3 2 4]\n",
      "vx: [2.1 1.  0.5]\n",
      "Addition: [5 3 7]\n",
      "Substraction: [-1 -1 -1]\n",
      "Multification: [4.2 1.  1.5]\n",
      "Divition: [0.66666667 0.5        0.75      ]\n"
     ]
    }
   ],
   "source": [
    "# Consider 2 vectors, a = [a1, a2], b = [b1, b2]\n",
    "# Create Vector\n",
    "from numpy import array\n",
    "va = array([2, 1, 3])\n",
    "vb = array([3, 2, 4])\n",
    "vx = array([2.1, 1, 0.5])\n",
    "print('va: {}'.format(va))\n",
    "print('vb: {}'.format(vb))\n",
    "print('vx: {}'.format(vx))\n",
    "\n",
    "#vector addition: c = a + b = (a1+b1, a2+b2)\n",
    "vc = va + vb\n",
    "print('Addition: {}'.format(vc))\n",
    "\n",
    "#vector subtraction: c = a - b = (a1-b1, a2-b2)\n",
    "vc = va - vb\n",
    "print('Substraction: {}'.format(vc))\n",
    "\n",
    "#vector multiplication: c = a * b = (a1*b1, a2*b2)\n",
    "vc = va * vx\n",
    "print('Multification: {}'.format(vc))\n",
    "\n",
    "#vector divition: c = a / b = [a1/b1, a2/b2]\n",
    "vc = va / vb\n",
    "print('Divition: {}'.format(vc))"
   ]
  },
  {
   "cell_type": "code",
   "execution_count": 22,
   "metadata": {},
   "outputs": [
    {
     "name": "stdout",
     "output_type": "stream",
     "text": [
      "vx: [6.  4.1 2. ]\n",
      "vy: [3 1 2]\n",
      "\n",
      "vx dot product of vy: 26.1\n",
      "\n",
      "scalar multiplication 0.5 with [6.  4.1 2. ] is [3.   2.05 1.  ]\n",
      "\n",
      "Magnitude of [6.  4.1 2. ] is 7.5372408744845085\n",
      "\n",
      "Unit vector of [6.  4.1 2. ] is [0.79604727 0.54396563 0.26534909]\n"
     ]
    }
   ],
   "source": [
    "from numpy import array\n",
    "vx = array([6, 4.1, 2])\n",
    "vy = array([3, 1, 2])\n",
    "print('vx: {}'.format(vx))\n",
    "print('vy: {}'.format(vy))\n",
    "\n",
    "# vector dot product: c = a.b = [a1*b1+a2*b2+a3*b3]\n",
    "vc = vx.dot(vy)\n",
    "print('\\nvx dot product of vy: {}'.format(vc))\n",
    "\n",
    "# vector scalar operations\n",
    "# scalar multiplication vc = s * vx = [s*x1, s*x2]\n",
    "sc = 0.5\n",
    "vc = sc * vx\n",
    "print('\\nscalar multiplication {} with {} is {}'.format(sc, vx, vc))\n",
    "\n",
    "# vector magnitude or norm (||vx||) =  square root of the sum of squares for each component of a vector\n",
    "# square of each component, sum all squares, find the square root\n",
    "from numpy import linalg\n",
    "print('\\nMagnitude of {} is {}'.format(vx, linalg.norm(vx)))\n",
    "\n",
    "# Unit vector (^) : stripping away the magnitude,\n",
    "# i.e computing the norm and then dividing each component of the vector by norm\n",
    "# there is no built-in numpy function to calculate this\n",
    "print('\\nUnit vector of {} is {}'.format(vx, vx / linalg.norm(vx)))"
   ]
  },
  {
   "cell_type": "code",
   "execution_count": 11,
   "metadata": {},
   "outputs": [
    {
     "name": "stdout",
     "output_type": "stream",
     "text": [
      "Angle between [1 4 5] and [2 1 5] is 29.152519407030084\n"
     ]
    }
   ],
   "source": [
    "# https://towardsdatascience.com/linear-algebra-essentials-with-numpy-part-1-af4a867ac5ca\n",
    "# Angle between vectors: widely used in NLP, when looking for strings that are very similer\n",
    "# smallest angle between the vectors means strings of that vectors are very similer\n",
    "# there is no direct built-in nlp function\n",
    "# Angle of two vectors = dot product of two vectros / product of two vectors norm\n",
    "\n",
    "# TF-IDF (term frequency–inverse document frequency) is the product of tf and idf\n",
    "# https://en.wikipedia.org/wiki/Tf%E2%80%93idf\n",
    "# the number of times a term occurs in a document is called its term frequency\n",
    "# The weight of a term that occurs in a document is simply proportional to the term frequency\n",
    "\n",
    "# An inverse document frequency factor is incorporated which diminishes the weight of terms\n",
    "# that occur very frequently in the document set and increases the weight of terms that occur rarely\n",
    "# The specificity of a term can be quantified as an inverse function of the number of documents in which it occurs\n",
    "\n",
    "# Consider there are somany emails on a topic and we need to find the similar emails or \n",
    "# emails which are very close to the topic\n",
    "# Convert the individual emails to vector of same dimentions, vector component will be 1 if the input contains \n",
    "# a certain word at a certain position, and 0 otherwise. \n",
    "# Now calculate the angle between vectors, the ones where angle in the smallest will be more similar\n",
    "\n",
    "import numpy as np\n",
    "ve1 = np.array([1, 4, 5])\n",
    "ve2 = np.array([2, 1, 5])\n",
    "dot_prd = ve1.dot(ve2)\n",
    "norm_prd = np.linalg.norm(ve1) * np.linalg.norm(ve2)\n",
    "print('Angle between {} and {} is {}'.format(ve1, ve2, np.rad2deg(np.arccos(dot_prd / norm_prd))))"
   ]
  },
  {
   "cell_type": "raw",
   "metadata": {},
   "source": [
    "# Matrix: Rectangular array of numbers or other mathematical objects for which operations \n",
    "  such as addition and multiplication are defined.\n",
    "# Dataset in datescience is rpresented in Matrix\n",
    "# vector is a single column (attribute) in dataset, while matrix is a collection of columns"
   ]
  },
  {
   "cell_type": "code",
   "execution_count": 11,
   "metadata": {},
   "outputs": [
    {
     "name": "stdout",
     "output_type": "stream",
     "text": [
      "Matrix A is \n",
      "[[3 5]\n",
      " [1 0]]\n",
      "\n",
      "Matrix B is \n",
      "[[ 2 -3]\n",
      " [ 1  2]]\n",
      "\n",
      "Addition (A + B) is \n",
      "[[5 2]\n",
      " [2 2]]\n",
      "\n",
      "Subtraction (A - B) is \n",
      "[[ 1  8]\n",
      " [ 0 -2]]\n",
      "\n",
      "Scalar multiplication (5 * A) is \n",
      "[[15 25]\n",
      " [ 5  0]]\n"
     ]
    }
   ],
   "source": [
    "import numpy as np\n",
    "\n",
    "A = np.matrix([\n",
    "    [3, 5],\n",
    "    [1, 0]\n",
    "])\n",
    "B = np.matrix([\n",
    "    [2, -3],\n",
    "    [1, 2]\n",
    "])\n",
    "\n",
    "print('Matrix A is \\n{}'.format(A))\n",
    "print('\\nMatrix B is \\n{}'.format(B))\n",
    "\n",
    "# Matrix addition: A = [[a1, a2], [a3, a4]],  B = [[b1, b2], [b3, b4]], A+B = [[a1+b1, a2+b2], [a3+b3, a4+b4]]\n",
    "print('\\nAddition (A + B) is \\n{}'.format(A+B))\n",
    "print('\\nSubtraction (A - B) is \\n{}'.format(A-B))\n",
    "\n",
    "# Scalar multiplication: A = [a1, a2, a3, a4], s * A = [[s*a1, s*a2], [s*a3, s*a4]]\n",
    "s = 5\n",
    "print('\\nScalar multiplication ({} * A) is \\n{}'.format(s, s*A)) "
   ]
  },
  {
   "cell_type": "code",
   "execution_count": 1,
   "metadata": {},
   "outputs": [
    {
     "name": "stdout",
     "output_type": "stream",
     "text": [
      "Matrix A is \n",
      "[[3 4]\n",
      " [1 0]]\n",
      "\n",
      "Matrix B is \n",
      "[[2 2]\n",
      " [1 2]]\n",
      "\n",
      "Multiplication 'A.dot(B)' is \n",
      "[[10 14]\n",
      " [ 2  2]]\n",
      "\n",
      "Multiplication 'np.dot(A, B)' is \n",
      "[[10 14]\n",
      " [ 2  2]]\n"
     ]
    }
   ],
   "source": [
    "# Matrix multiplicaton : possible only when 1st matrix colum is equal to second matrix rows\n",
    "# Matrix A (m rows, n columns), Matrix B (n rows, p columns) then A X B = AB (m rows, p columns)\n",
    "# Matrix multiplication: A = [[a1, a2], [a3, a4]]  B = [[b1, b2], [b3, b4]] AB = [[a1b1+a2b3, a1b2+a2b4], [a3b1+a4b3, a3b2+a4b4]]\n",
    "# Matrix multiplication is the caluculation of dot product of row matrix of A and column matrix of B\n",
    "\n",
    "import numpy as np\n",
    "A = np.matrix([\n",
    "    [3, 4],\n",
    "    [1, 0]\n",
    "])\n",
    "B = np.matrix([\n",
    "    [2, 2],\n",
    "    [1, 2]\n",
    "])\n",
    "\n",
    "print('Matrix A is \\n{}'.format(A))\n",
    "print('\\nMatrix B is \\n{}'.format(B))\n",
    "print(\"\\nMultiplication 'A.dot(B)' is \\n{}\".format(A.dot(B)))\n",
    "print(\"\\nMultiplication 'np.dot(A, B)' is \\n{}\".format(np.dot(A,B)))"
   ]
  },
  {
   "cell_type": "code",
   "execution_count": 16,
   "metadata": {},
   "outputs": [
    {
     "name": "stdout",
     "output_type": "stream",
     "text": [
      "\n",
      "Transpose of \n",
      "[[1 2 3]\n",
      " [4 5 6]] is \n",
      "\n",
      "[[1 4]\n",
      " [2 5]\n",
      " [3 6]]\n",
      "\n",
      "Generate identity matrix of 2 \n",
      "[[1. 0.]\n",
      " [0. 1.]]\n",
      "\n",
      "Generate identity matrix of 3 \n",
      "[[1. 0. 0.]\n",
      " [0. 1. 0.]\n",
      " [0. 0. 1.]]\n"
     ]
    }
   ],
   "source": [
    "# Matrix Transpose: exchange rows and columns,\n",
    "# A = [[a1, a2, a3], [a4, a5, a6]], T(A) = [[a1, a4], [a2, a5], [a3, a6]]\n",
    "import numpy as np\n",
    "A = np.matrix([\n",
    "    [1, 2, 3],\n",
    "    [4, 5, 6]\n",
    "])\n",
    "print('\\nTranspose of \\n{} is \\n\\n{}'.format(A, A.T))\n",
    "\n",
    "# Identity matrix represented as I: every diagonal elements is 1, all other will be 0\n",
    "print('\\nGenerate identity matrix of size {} \\n{}'.format(2, np.eye(2)))\n",
    "print('\\nGenerate identity matrix of size {} \\n{}'.format(3, np.eye(3)))"
   ]
  },
  {
   "cell_type": "code",
   "execution_count": 18,
   "metadata": {},
   "outputs": [
    {
     "name": "stdout",
     "output_type": "stream",
     "text": [
      "\n",
      "Determinant of \n",
      "[[1 2]\n",
      " [4 5]] is \n",
      "\n",
      "-2.9999999999999996\n",
      "\n",
      "Determinant of \n",
      "[[1 2 3]\n",
      " [4 5 6]\n",
      " [7 8 9]] is \n",
      "\n",
      "0.0\n"
     ]
    }
   ],
   "source": [
    "# Determinant of a matrix (|A|) is a scalar value, computed only for any square matrix\n",
    "# A = [[a, b], [c, d]] then |A| = ad - cb\n",
    "import numpy as np\n",
    "A = np.matrix([\n",
    "    [1, 2],\n",
    "    [4, 5]\n",
    "])\n",
    "print('\\nDeterminant of \\n{} is \\n\\n{}'.format(A, np.linalg.det(A)))\n",
    "\n",
    "'''\n",
    "A = [[a, b, c],\n",
    "     [p, q, r],\n",
    "     [x, y, z]] \n",
    "     \n",
    "    [[a, b, c], a, b\n",
    "     [p, q, r], p, q\n",
    "     [x, y, z]] x, y\n",
    "     \n",
    "     then |A| = aqz + brx + cpy - bpz - ary - cqx\n",
    "'''\n",
    "B = np.matrix([\n",
    "    [1, 2, 3],\n",
    "    [4, 5, 6],\n",
    "    [7, 8, 9]\n",
    "])\n",
    "print('\\nDeterminant of \\n{} is \\n\\n{}'.format(B, np.linalg.det(B)))"
   ]
  },
  {
   "cell_type": "code",
   "execution_count": 21,
   "metadata": {},
   "outputs": [
    {
     "name": "stdout",
     "output_type": "stream",
     "text": [
      "Inverse of \n",
      "[[4 3]\n",
      " [5 4]] is \n",
      "\n",
      "[[ 4. -3.]\n",
      " [-5.  4.]]\n"
     ]
    }
   ],
   "source": [
    "# Matrix inverse:\n",
    "'''A square matrix is called invertible (or nonsingular) if multiplication of the original matrix by its \n",
    "inverse results in the identity matrix.\n",
    "conditons (1) Matrix should be square, (2) Determinant should not be ZERO\n",
    "Matrix that isn't invertible is called a singular matrix\n",
    "'''\n",
    "# A = [[a, b], [c, d]]\n",
    "# Inverse (A) = [[d, -b], [-c, a]]\n",
    "\n",
    "# A = [[4, 3], [5, 4]]\n",
    "# Inv(A) = [[4, -3], [-5, 4]]\n",
    "# A * Inv(A) == I\n",
    "\n",
    "import numpy as np\n",
    "A = np.matrix([\n",
    "    [4, 3],\n",
    "    [5, 4]\n",
    "])\n",
    "print('Inverse of \\n{} is \\n\\n{}'.format(A, np.linalg.inv(A)))"
   ]
  },
  {
   "cell_type": "code",
   "execution_count": null,
   "metadata": {},
   "outputs": [],
   "source": []
  }
 ],
 "metadata": {
  "kernelspec": {
   "display_name": "Python 3",
   "language": "python",
   "name": "python3"
  },
  "language_info": {
   "codemirror_mode": {
    "name": "ipython",
    "version": 3
   },
   "file_extension": ".py",
   "mimetype": "text/x-python",
   "name": "python",
   "nbconvert_exporter": "python",
   "pygments_lexer": "ipython3",
   "version": "3.7.6"
  }
 },
 "nbformat": 4,
 "nbformat_minor": 4
}
